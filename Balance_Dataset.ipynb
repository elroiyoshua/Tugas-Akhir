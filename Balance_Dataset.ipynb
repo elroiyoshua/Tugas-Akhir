{
  "cells": [
    {
      "cell_type": "code",
      "execution_count": null,
      "id": "9144975f",
      "metadata": {
        "id": "9144975f"
      },
      "outputs": [],
      "source": [
        "import pandas as pd"
      ]
    },
    {
      "cell_type": "code",
      "execution_count": null,
      "id": "1bcec8a3",
      "metadata": {
        "colab": {
          "base_uri": "https://localhost:8080/",
          "height": 423
        },
        "id": "1bcec8a3",
        "outputId": "1e9a2213-2d74-4eb4-a299-0b44e5224b7f"
      },
      "outputs": [],
      "source": [
        "df = pd.read_csv(\"merged_data_all_labeled.csv\")\n",
        "\n",
        "#Tweet depresif bernilai 1\n",
        "df[\"label\"] = df[\"label\"].replace(\"Positif\", 1)\n",
        "# Tweet non depresif bernilai 0\n",
        "df[\"label\"] = df[\"label\"].replace(\"Negatif\", 0)\n",
        "df"
      ]
    },
    {
      "cell_type": "code",
      "execution_count": null,
      "id": "34aa2f28",
      "metadata": {
        "colab": {
          "base_uri": "https://localhost:8080/"
        },
        "id": "34aa2f28",
        "outputId": "96f8f558-8b74-4897-e94a-0890c9695bb4"
      },
      "outputs": [
        {
          "name": "stdout",
          "output_type": "stream",
          "text": [
            "1    107\n",
            "0     77\n",
            "Name: label, dtype: int64\n"
          ]
        }
      ],
      "source": [
        "# Assuming df is your DataFrame\n",
        "label_counts = df[\"label\"].value_counts()\n",
        "\n",
        "# Print the counts\n",
        "print(label_counts)"
      ]
    },
    {
      "cell_type": "code",
      "execution_count": null,
      "id": "582e68a5",
      "metadata": {
        "id": "582e68a5"
      },
      "outputs": [],
      "source": [
        "import pandas as pd\n",
        "\n",
        "# Assuming df is your DataFrame\n",
        "count_label_0 = df[\"label\"].value_counts()[0]\n",
        "count_label_1 = df[\"label\"].value_counts()[1]\n",
        "\n",
        "# Set the desired number of samples for each label\n",
        "desired_count = 77\n",
        "\n",
        "# Oversample the minority class (label 0) if needed\n",
        "df_label_0 = df[df[\"label\"] == 0].sample(n=max(desired_count, count_label_0), replace=True, random_state=42)\n",
        "\n",
        "# Undersample the majority class (label 1) if needed\n",
        "df_label_1 = df[df[\"label\"] == 1].sample(n=min(desired_count, count_label_1), replace=True, random_state=42)\n",
        "\n",
        "# Truncate the oversampled data to the desired count\n",
        "df_label_0 = df_label_0.head(desired_count)\n",
        "\n",
        "# Concatenate the undersampled and truncated oversampled dataframes\n",
        "df_balanced = pd.concat([df_label_0, df_label_1])\n",
        "\n",
        "# Shuffle the DataFrame to randomize the order\n",
        "df_balanced = df_balanced.sample(frac=1, random_state=42).reset_index(drop=True)"
      ]
    },
    {
      "cell_type": "code",
      "execution_count": null,
      "id": "5bdaf73d",
      "metadata": {
        "colab": {
          "base_uri": "https://localhost:8080/"
        },
        "id": "5bdaf73d",
        "outputId": "e1b5319a-3e87-4ba8-a8cc-c2851d1786d9"
      },
      "outputs": [
        {
          "name": "stdout",
          "output_type": "stream",
          "text": [
            "0    77\n",
            "1    77\n",
            "Name: label, dtype: int64\n"
          ]
        }
      ],
      "source": [
        "# Assuming df is your DataFrame\n",
        "label_counts = df_balanced[\"label\"].value_counts()\n",
        "\n",
        "# Print the counts\n",
        "print(label_counts)"
      ]
    },
    {
      "cell_type": "code",
      "execution_count": null,
      "id": "4e363a9a",
      "metadata": {
        "id": "4e363a9a"
      },
      "outputs": [],
      "source": [
        "df_balanced.to_csv(\"balance_dataset2.csv\", index=False)"
      ]
    }
  ],
  "metadata": {
    "colab": {
      "provenance": []
    },
    "kernelspec": {
      "display_name": "Python 3 (ipykernel)",
      "language": "python",
      "name": "python3"
    },
    "language_info": {
      "codemirror_mode": {
        "name": "ipython",
        "version": 3
      },
      "file_extension": ".py",
      "mimetype": "text/x-python",
      "name": "python",
      "nbconvert_exporter": "python",
      "pygments_lexer": "ipython3",
      "version": "3.11.3"
    }
  },
  "nbformat": 4,
  "nbformat_minor": 5
}
